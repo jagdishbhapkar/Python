{
 "cells": [
  {
   "cell_type": "code",
   "execution_count": 26,
   "id": "b89adae8",
   "metadata": {},
   "outputs": [
    {
     "data": {
      "text/plain": [
       "-4"
      ]
     },
     "execution_count": 26,
     "metadata": {},
     "output_type": "execute_result"
    }
   ],
   "source": [
    "a=[1,2,-1,-4]\n",
    "a[-1]"
   ]
  },
  {
   "cell_type": "code",
   "execution_count": 14,
   "id": "1291090f",
   "metadata": {},
   "outputs": [
    {
     "name": "stdout",
     "output_type": "stream",
     "text": [
      "1\n"
     ]
    }
   ],
   "source": [
    "for i in a:\n",
    "    print(i)\n",
    "    break"
   ]
  },
  {
   "cell_type": "code",
   "execution_count": 16,
   "id": "f20ed0ce",
   "metadata": {},
   "outputs": [
    {
     "name": "stdout",
     "output_type": "stream",
     "text": [
      "0\n",
      "1\n",
      "2\n",
      "3\n",
      "4\n",
      "5\n",
      "6\n",
      "7\n",
      "8\n",
      "9\n"
     ]
    }
   ],
   "source": [
    "for i in range(0,10):\n",
    "    print(i)"
   ]
  },
  {
   "cell_type": "code",
   "execution_count": 20,
   "id": "08e3b991",
   "metadata": {},
   "outputs": [
    {
     "name": "stdout",
     "output_type": "stream",
     "text": [
      "0\n",
      "1\n",
      "2\n",
      "3\n"
     ]
    }
   ],
   "source": [
    "for i in range(len(a)):\n",
    "    print(i)"
   ]
  },
  {
   "cell_type": "code",
   "execution_count": 21,
   "id": "89bd74db",
   "metadata": {},
   "outputs": [
    {
     "name": "stdout",
     "output_type": "stream",
     "text": [
      "1\n",
      "2\n",
      "-1\n",
      "-4\n"
     ]
    }
   ],
   "source": [
    "for i in range(len(a)):\n",
    "    print(a[i])"
   ]
  },
  {
   "cell_type": "code",
   "execution_count": 27,
   "id": "2e8915df",
   "metadata": {},
   "outputs": [
    {
     "name": "stdout",
     "output_type": "stream",
     "text": [
      "1\n",
      "2\n",
      "-1\n",
      "-4\n",
      "[1, 2, 0, 0]\n"
     ]
    }
   ],
   "source": [
    "for i in range(len(a)):\n",
    "    print(a[i])\n",
    "    if a[i]<0:\n",
    "        a[i]=0\n",
    "print(a)"
   ]
  },
  {
   "cell_type": "code",
   "execution_count": null,
   "id": "6c961fe9",
   "metadata": {},
   "outputs": [],
   "source": []
  },
  {
   "cell_type": "code",
   "execution_count": 12,
   "id": "9548105d",
   "metadata": {},
   "outputs": [
    {
     "data": {
      "text/plain": [
       "1"
      ]
     },
     "execution_count": 12,
     "metadata": {},
     "output_type": "execute_result"
    }
   ],
   "source": [
    "a[0]"
   ]
  },
  {
   "cell_type": "code",
   "execution_count": 15,
   "id": "cbd9a120",
   "metadata": {},
   "outputs": [
    {
     "name": "stdout",
     "output_type": "stream",
     "text": [
      "1\n",
      "2\n",
      "-1\n",
      "-4\n"
     ]
    }
   ],
   "source": [
    "for i in a:\n",
    "    print(i)\n",
    "    continue"
   ]
  },
  {
   "cell_type": "code",
   "execution_count": 28,
   "id": "d29ce9f0",
   "metadata": {},
   "outputs": [
    {
     "name": "stdout",
     "output_type": "stream",
     "text": [
      "[0, 1, 4, 9, 16, 25, 36, 49, 64, 81]\n"
     ]
    }
   ],
   "source": [
    "# For list compresssion\n",
    "square=[]\n",
    "for i in range(0,10):\n",
    "    square.append(i*i)\n",
    "print(square)"
   ]
  },
  {
   "cell_type": "code",
   "execution_count": 30,
   "id": "db9d49ee",
   "metadata": {},
   "outputs": [
    {
     "name": "stdout",
     "output_type": "stream",
     "text": [
      "[2, 3, 4, 5, 5, 6, 8, 25, 52]\n"
     ]
    }
   ],
   "source": [
    "# Sort complex iterable with sorted\n",
    "data=[3,4,5,6,8,2,5,52,25]\n",
    "sorted_data=sorted(data)\n",
    "print(sorted_data)"
   ]
  },
  {
   "cell_type": "code",
   "execution_count": 32,
   "id": "d5918d63",
   "metadata": {},
   "outputs": [
    {
     "name": "stdout",
     "output_type": "stream",
     "text": [
      "[52, 25, 8, 6, 5, 5, 4, 3, 2]\n"
     ]
    }
   ],
   "source": [
    "# Sort complex iterable with sorted with reversed\n",
    "data=[3,4,5,6,8,2,5,52,25]\n",
    "sorted_data=sorted(data,reverse=True)\n",
    "print(sorted_data)"
   ]
  },
  {
   "cell_type": "code",
   "execution_count": 36,
   "id": "7e8bda27",
   "metadata": {},
   "outputs": [
    {
     "name": "stdout",
     "output_type": "stream",
     "text": [
      "[{'name': 'max', 'age': 20}, {'name': 'r4v', 'age': 15}, {'name': 'try', 'age': 17}]\n",
      "[{'name': 'r4v', 'age': 15}, {'name': 'try', 'age': 17}, {'name': 'max', 'age': 20}]\n"
     ]
    }
   ],
   "source": [
    "data=[{\"name\":\"max\",\"age\":20},{\"name\":\"r4v\",\"age\":15},{\"name\":\"try\",\"age\":17}]\n",
    "print(data)\n",
    "sorted_data=sorted(data,key=lambda x:x['age'])\n",
    "print(sorted_data)"
   ]
  },
  {
   "cell_type": "code",
   "execution_count": 37,
   "id": "01907599",
   "metadata": {},
   "outputs": [
    {
     "name": "stdout",
     "output_type": "stream",
     "text": [
      "{1, 2, 3, 4, 5, 6, 8, 9}\n"
     ]
    }
   ],
   "source": [
    "## Unique list\n",
    "my_list=[1,2,3,2,2,5,8,9,6,2,4]\n",
    "ty=set(my_list)\n",
    "print(ty)"
   ]
  },
  {
   "cell_type": "code",
   "execution_count": 38,
   "id": "71b3d4ee",
   "metadata": {},
   "outputs": [],
   "source": [
    "# Save memory with generator"
   ]
  },
  {
   "cell_type": "code",
   "execution_count": 41,
   "id": "fbddaf6a",
   "metadata": {},
   "outputs": [
    {
     "name": "stdout",
     "output_type": "stream",
     "text": [
      "49995000\n"
     ]
    }
   ],
   "source": [
    "my_list=[i for i in range(1,10000)]\n",
    "print(sum(my_list))"
   ]
  },
  {
   "cell_type": "code",
   "execution_count": 43,
   "id": "688e9f31",
   "metadata": {},
   "outputs": [
    {
     "name": "stdout",
     "output_type": "stream",
     "text": [
      "{'item': 'rv', 'price': 10}\n",
      "0\n"
     ]
    }
   ],
   "source": [
    "# Print default value of dictonary\n",
    "my_dict={\"item\":\"rv\",\"price\":10}\n",
    "print(my_dict)\n",
    "count=my_dict.get('count',0)\n",
    "print(count)"
   ]
  },
  {
   "cell_type": "code",
   "execution_count": 51,
   "id": "164632a4",
   "metadata": {},
   "outputs": [
    {
     "name": "stdout",
     "output_type": "stream",
     "text": [
      "Counter({7: 2, 1: 1, 2: 1, 3: 1, 54: 1, 5: 1, 6: 1, 8: 1})\n",
      "[(7, 2), (1, 1)]\n"
     ]
    }
   ],
   "source": [
    "# Count of the elements\n",
    "from collections import Counter\n",
    "my_list=[1,2,3,54,5,6,7,8,7]\n",
    "counter=Counter(my_list)\n",
    "print(counter)\n",
    "most_common=counter.most_common(2)\n",
    "print(most_common)"
   ]
  },
  {
   "cell_type": "code",
   "execution_count": 52,
   "id": "5edbbaa5",
   "metadata": {},
   "outputs": [
    {
     "name": "stdout",
     "output_type": "stream",
     "text": [
      "jagdish\n"
     ]
    }
   ],
   "source": [
    "name='jagdish'\n",
    "print(name)"
   ]
  },
  {
   "cell_type": "code",
   "execution_count": 55,
   "id": "9c6cb672",
   "metadata": {},
   "outputs": [],
   "source": [
    "#i=9\n",
    "#print(f\"{i} squared is {i*i})"
   ]
  },
  {
   "cell_type": "code",
   "execution_count": 54,
   "id": "1a206616",
   "metadata": {},
   "outputs": [
    {
     "name": "stdout",
     "output_type": "stream",
     "text": [
      "9 squared is 81\n"
     ]
    }
   ],
   "source": [
    "i=9\n",
    "print(f\"{i} squared is {i*i}\")"
   ]
  },
  {
   "cell_type": "code",
   "execution_count": 57,
   "id": "de9f3021",
   "metadata": {},
   "outputs": [
    {
     "name": "stdout",
     "output_type": "stream",
     "text": [
      "jagdish bhapkar\n"
     ]
    }
   ],
   "source": [
    "#list_of_string\n",
    "l1=['jagdish','bhapkar']\n",
    "l2=' '.join(l1)\n",
    "print(l2)"
   ]
  },
  {
   "cell_type": "code",
   "execution_count": 60,
   "id": "44e1f247",
   "metadata": {},
   "outputs": [
    {
     "name": "stdout",
     "output_type": "stream",
     "text": [
      "{'a': 'jagu', 'b': 'raghu', 'c': 'pritum'}\n",
      "{'a': 'jagu', 'b': 'rgg', 'c': 'pritum', 'ff': 'nn'}\n"
     ]
    }
   ],
   "source": [
    "# Merge 2 dictonaries in python\n",
    "a={'a':'jagu','b':'raghu','c':'pritum'}\n",
    "print(a)\n",
    "b={'b':'rgg','ff':'nn'}\n",
    "c={**a,**b}\n",
    "print(c)"
   ]
  },
  {
   "cell_type": "code",
   "execution_count": null,
   "id": "19d82102",
   "metadata": {},
   "outputs": [],
   "source": []
  }
 ],
 "metadata": {
  "kernelspec": {
   "display_name": "Python 3",
   "language": "python",
   "name": "python3"
  },
  "language_info": {
   "codemirror_mode": {
    "name": "ipython",
    "version": 3
   },
   "file_extension": ".py",
   "mimetype": "text/x-python",
   "name": "python",
   "nbconvert_exporter": "python",
   "pygments_lexer": "ipython3",
   "version": "3.8.8"
  }
 },
 "nbformat": 4,
 "nbformat_minor": 5
}
